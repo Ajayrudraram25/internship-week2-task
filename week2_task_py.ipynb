{
  "nbformat": 4,
  "nbformat_minor": 0,
  "metadata": {
    "colab": {
      "provenance": []
    },
    "kernelspec": {
      "name": "python3",
      "display_name": "Python 3"
    },
    "language_info": {
      "name": "python"
    }
  },
  "cells": [
    {
      "cell_type": "code",
      "execution_count": null,
      "metadata": {
        "id": "RU9mdniLYChC"
      },
      "outputs": [],
      "source": [
        "# Week 2 Task: Functions, Lists & Dictionaries"
      ]
    },
    {
      "cell_type": "code",
      "source": [
        "# Step 1: Store student scores in a dictionary\n",
        "student_scores = {\n",
        "    \"Ajay\": 85,\n",
        "    \"Ravi\": 90,\n",
        "    \"Sita\": 78,\n",
        "    \"Kiran\": 88\n",
        "}"
      ],
      "metadata": {
        "id": "Da7BK2EWYfDT"
      },
      "execution_count": null,
      "outputs": []
    },
    {
      "cell_type": "code",
      "source": [
        "# Step 2: Display student scores\n",
        "print(\"Student Scores:\")\n",
        "for name, score in student_scores.items():\n",
        "    print(f\"{name}: {score}\")"
      ],
      "metadata": {
        "colab": {
          "base_uri": "https://localhost:8080/"
        },
        "id": "_0yZvwl4YoOt",
        "outputId": "1b21f811-5448-476c-cd1e-9acbd978cabe"
      },
      "execution_count": null,
      "outputs": [
        {
          "output_type": "stream",
          "name": "stdout",
          "text": [
            "Student Scores:\n",
            "Ajay: 85\n",
            "Ravi: 90\n",
            "Sita: 78\n",
            "Kiran: 88\n"
          ]
        }
      ]
    },
    {
      "cell_type": "code",
      "source": [
        "# Step 3: Define function to calculate average\n",
        "def calculate_average(scores):\n",
        "    total = sum(scores)\n",
        "    avg = total / len(scores)\n",
        "    return avg"
      ],
      "metadata": {
        "id": "Sh87KT_CYpYH"
      },
      "execution_count": null,
      "outputs": []
    },
    {
      "cell_type": "code",
      "source": [
        "# Step 4: Call function and print average\n",
        "scores_list = list(student_scores.values())\n",
        "average = calculate_average(scores_list)\n",
        "print(f\"\\nAverage Score: {average:.2f}\")"
      ],
      "metadata": {
        "colab": {
          "base_uri": "https://localhost:8080/"
        },
        "id": "c5z5ci4wYshE",
        "outputId": "8a37346a-a2cd-4830-cf09-8d69d3d5a4ab"
      },
      "execution_count": null,
      "outputs": [
        {
          "output_type": "stream",
          "name": "stdout",
          "text": [
            "\n",
            "Average Score: 85.25\n"
          ]
        }
      ]
    },
    {
      "cell_type": "markdown",
      "source": [],
      "metadata": {
        "id": "Nn9Mn_HLYPl2"
      }
    }
  ]
}